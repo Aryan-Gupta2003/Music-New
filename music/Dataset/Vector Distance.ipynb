{
 "cells": [
  {
   "cell_type": "code",
   "execution_count": 26,
   "metadata": {},
   "outputs": [],
   "source": [
    "import pandas as pd\n",
    "import random\n",
    "import numpy as np\n",
    "import matplotlib.pyplot as plt\n",
    "from numpy.linalg import norm"
   ]
  },
  {
   "cell_type": "code",
   "execution_count": 27,
   "metadata": {},
   "outputs": [
    {
     "name": "stdout",
     "output_type": "stream",
     "text": [
      "(2468, 19)\n"
     ]
    },
    {
     "data": {
      "text/html": [
       "<div>\n",
       "<style scoped>\n",
       "    .dataframe tbody tr th:only-of-type {\n",
       "        vertical-align: middle;\n",
       "    }\n",
       "\n",
       "    .dataframe tbody tr th {\n",
       "        vertical-align: top;\n",
       "    }\n",
       "\n",
       "    .dataframe thead th {\n",
       "        text-align: right;\n",
       "    }\n",
       "</style>\n",
       "<table border=\"1\" class=\"dataframe\">\n",
       "  <thead>\n",
       "    <tr style=\"text-align: right;\">\n",
       "      <th></th>\n",
       "      <th>danceability</th>\n",
       "      <th>energy</th>\n",
       "      <th>key</th>\n",
       "      <th>loudness</th>\n",
       "      <th>mode</th>\n",
       "      <th>speechiness</th>\n",
       "      <th>acousticness</th>\n",
       "      <th>instrumentalness</th>\n",
       "      <th>liveness</th>\n",
       "      <th>valence</th>\n",
       "      <th>tempo</th>\n",
       "      <th>type</th>\n",
       "      <th>id</th>\n",
       "      <th>uri</th>\n",
       "      <th>track_href</th>\n",
       "      <th>analysis_url</th>\n",
       "      <th>duration_ms</th>\n",
       "      <th>time_signature</th>\n",
       "      <th>name</th>\n",
       "    </tr>\n",
       "  </thead>\n",
       "  <tbody>\n",
       "    <tr>\n",
       "      <th>0</th>\n",
       "      <td>0.782</td>\n",
       "      <td>0.972</td>\n",
       "      <td>5</td>\n",
       "      <td>-7.542</td>\n",
       "      <td>0</td>\n",
       "      <td>0.1480</td>\n",
       "      <td>0.02550</td>\n",
       "      <td>0.000013</td>\n",
       "      <td>0.3690</td>\n",
       "      <td>0.557</td>\n",
       "      <td>133.967</td>\n",
       "      <td>audio_features</td>\n",
       "      <td>1YFTLSuSQ0odUosJIVTvOC</td>\n",
       "      <td>spotify:track:1YFTLSuSQ0odUosJIVTvOC</td>\n",
       "      <td>https://api.spotify.com/v1/tracks/1YFTLSuSQ0od...</td>\n",
       "      <td>https://api.spotify.com/v1/audio-analysis/1YFT...</td>\n",
       "      <td>326839</td>\n",
       "      <td>4</td>\n",
       "      <td>Ishq Kaminaa</td>\n",
       "    </tr>\n",
       "    <tr>\n",
       "      <th>1</th>\n",
       "      <td>0.696</td>\n",
       "      <td>0.888</td>\n",
       "      <td>0</td>\n",
       "      <td>-2.285</td>\n",
       "      <td>0</td>\n",
       "      <td>0.0336</td>\n",
       "      <td>0.05920</td>\n",
       "      <td>0.000185</td>\n",
       "      <td>0.1310</td>\n",
       "      <td>0.676</td>\n",
       "      <td>120.976</td>\n",
       "      <td>audio_features</td>\n",
       "      <td>7pCE1BHlNVbvIuqUEOGAj5</td>\n",
       "      <td>spotify:track:7pCE1BHlNVbvIuqUEOGAj5</td>\n",
       "      <td>https://api.spotify.com/v1/tracks/7pCE1BHlNVbv...</td>\n",
       "      <td>https://api.spotify.com/v1/audio-analysis/7pCE...</td>\n",
       "      <td>214067</td>\n",
       "      <td>4</td>\n",
       "      <td>Bhool Ja</td>\n",
       "    </tr>\n",
       "    <tr>\n",
       "      <th>2</th>\n",
       "      <td>0.621</td>\n",
       "      <td>0.704</td>\n",
       "      <td>7</td>\n",
       "      <td>-5.293</td>\n",
       "      <td>0</td>\n",
       "      <td>0.0236</td>\n",
       "      <td>0.10100</td>\n",
       "      <td>0.000000</td>\n",
       "      <td>0.1850</td>\n",
       "      <td>0.366</td>\n",
       "      <td>99.942</td>\n",
       "      <td>audio_features</td>\n",
       "      <td>4kO9vFarqUPNwlgFnVNgVh</td>\n",
       "      <td>spotify:track:4kO9vFarqUPNwlgFnVNgVh</td>\n",
       "      <td>https://api.spotify.com/v1/tracks/4kO9vFarqUPN...</td>\n",
       "      <td>https://api.spotify.com/v1/audio-analysis/4kO9...</td>\n",
       "      <td>291240</td>\n",
       "      <td>4</td>\n",
       "      <td>Tanha Dil</td>\n",
       "    </tr>\n",
       "    <tr>\n",
       "      <th>3</th>\n",
       "      <td>0.830</td>\n",
       "      <td>0.770</td>\n",
       "      <td>9</td>\n",
       "      <td>-4.135</td>\n",
       "      <td>0</td>\n",
       "      <td>0.1120</td>\n",
       "      <td>0.48300</td>\n",
       "      <td>0.000001</td>\n",
       "      <td>0.1270</td>\n",
       "      <td>0.927</td>\n",
       "      <td>99.990</td>\n",
       "      <td>audio_features</td>\n",
       "      <td>5VG9YmTLrTuhOlhWYDdI8v</td>\n",
       "      <td>spotify:track:5VG9YmTLrTuhOlhWYDdI8v</td>\n",
       "      <td>https://api.spotify.com/v1/tracks/5VG9YmTLrTuh...</td>\n",
       "      <td>https://api.spotify.com/v1/audio-analysis/5VG9...</td>\n",
       "      <td>216453</td>\n",
       "      <td>4</td>\n",
       "      <td>Sexy Mama</td>\n",
       "    </tr>\n",
       "    <tr>\n",
       "      <th>4</th>\n",
       "      <td>0.758</td>\n",
       "      <td>0.918</td>\n",
       "      <td>7</td>\n",
       "      <td>-2.487</td>\n",
       "      <td>1</td>\n",
       "      <td>0.1080</td>\n",
       "      <td>0.00085</td>\n",
       "      <td>0.000154</td>\n",
       "      <td>0.0619</td>\n",
       "      <td>0.721</td>\n",
       "      <td>98.071</td>\n",
       "      <td>audio_features</td>\n",
       "      <td>6dWQ9E5mFjQZA7ujh3wd2Z</td>\n",
       "      <td>spotify:track:6dWQ9E5mFjQZA7ujh3wd2Z</td>\n",
       "      <td>https://api.spotify.com/v1/tracks/6dWQ9E5mFjQZ...</td>\n",
       "      <td>https://api.spotify.com/v1/audio-analysis/6dWQ...</td>\n",
       "      <td>93760</td>\n",
       "      <td>4</td>\n",
       "      <td>Ari Ari (Part 1)</td>\n",
       "    </tr>\n",
       "  </tbody>\n",
       "</table>\n",
       "</div>"
      ],
      "text/plain": [
       "   danceability  energy  key  loudness  mode  speechiness  acousticness  \\\n",
       "0         0.782   0.972    5    -7.542     0       0.1480       0.02550   \n",
       "1         0.696   0.888    0    -2.285     0       0.0336       0.05920   \n",
       "2         0.621   0.704    7    -5.293     0       0.0236       0.10100   \n",
       "3         0.830   0.770    9    -4.135     0       0.1120       0.48300   \n",
       "4         0.758   0.918    7    -2.487     1       0.1080       0.00085   \n",
       "\n",
       "   instrumentalness  liveness  valence    tempo            type  \\\n",
       "0          0.000013    0.3690    0.557  133.967  audio_features   \n",
       "1          0.000185    0.1310    0.676  120.976  audio_features   \n",
       "2          0.000000    0.1850    0.366   99.942  audio_features   \n",
       "3          0.000001    0.1270    0.927   99.990  audio_features   \n",
       "4          0.000154    0.0619    0.721   98.071  audio_features   \n",
       "\n",
       "                       id                                   uri  \\\n",
       "0  1YFTLSuSQ0odUosJIVTvOC  spotify:track:1YFTLSuSQ0odUosJIVTvOC   \n",
       "1  7pCE1BHlNVbvIuqUEOGAj5  spotify:track:7pCE1BHlNVbvIuqUEOGAj5   \n",
       "2  4kO9vFarqUPNwlgFnVNgVh  spotify:track:4kO9vFarqUPNwlgFnVNgVh   \n",
       "3  5VG9YmTLrTuhOlhWYDdI8v  spotify:track:5VG9YmTLrTuhOlhWYDdI8v   \n",
       "4  6dWQ9E5mFjQZA7ujh3wd2Z  spotify:track:6dWQ9E5mFjQZA7ujh3wd2Z   \n",
       "\n",
       "                                          track_href  \\\n",
       "0  https://api.spotify.com/v1/tracks/1YFTLSuSQ0od...   \n",
       "1  https://api.spotify.com/v1/tracks/7pCE1BHlNVbv...   \n",
       "2  https://api.spotify.com/v1/tracks/4kO9vFarqUPN...   \n",
       "3  https://api.spotify.com/v1/tracks/5VG9YmTLrTuh...   \n",
       "4  https://api.spotify.com/v1/tracks/6dWQ9E5mFjQZ...   \n",
       "\n",
       "                                        analysis_url  duration_ms  \\\n",
       "0  https://api.spotify.com/v1/audio-analysis/1YFT...       326839   \n",
       "1  https://api.spotify.com/v1/audio-analysis/7pCE...       214067   \n",
       "2  https://api.spotify.com/v1/audio-analysis/4kO9...       291240   \n",
       "3  https://api.spotify.com/v1/audio-analysis/5VG9...       216453   \n",
       "4  https://api.spotify.com/v1/audio-analysis/6dWQ...        93760   \n",
       "\n",
       "   time_signature              name  \n",
       "0               4      Ishq Kaminaa  \n",
       "1               4          Bhool Ja  \n",
       "2               4         Tanha Dil  \n",
       "3               4         Sexy Mama  \n",
       "4               4  Ari Ari (Part 1)  "
      ]
     },
     "execution_count": 27,
     "metadata": {},
     "output_type": "execute_result"
    }
   ],
   "source": [
    "df = pd.read_csv(\"database.csv\")\n",
    "print(df.shape)\n",
    "df.head()"
   ]
  },
  {
   "cell_type": "code",
   "execution_count": 28,
   "metadata": {},
   "outputs": [
    {
     "data": {
      "text/plain": [
       "0                 [0.557, 0.972]\n",
       "1    [0.6759999999999999, 0.888]\n",
       "2    [0.366, 0.7040000000000001]\n",
       "3                  [0.927, 0.77]\n",
       "4    [0.721, 0.9179999999999999]\n",
       "Name: mood_vec, dtype: object"
      ]
     },
     "execution_count": 28,
     "metadata": {},
     "output_type": "execute_result"
    }
   ],
   "source": [
    "df[\"mood_vec\"] = df[[\"valence\", \"energy\"]].values.tolist()\n",
    "df[\"mood_vec\"].head()"
   ]
  },
  {
   "cell_type": "code",
   "execution_count": 29,
   "metadata": {},
   "outputs": [],
   "source": [
    "lix=[]\n",
    "liy=[]\n",
    "for i in range(len(df[\"mood_vec\"])):\n",
    "    lix.append(df[\"mood_vec\"][i][0])\n",
    "    liy.append(df[\"mood_vec\"][i][1])\n",
    "    \n"
   ]
  },
  {
   "cell_type": "code",
   "execution_count": 30,
   "metadata": {},
   "outputs": [
    {
     "data": {
      "image/png": "[encoded data removed]",
      "text/plain": [
       "<Figure size 432x288 with 1 Axes>"
      ]
     },
     "metadata": {
      "needs_background": "light"
     },
     "output_type": "display_data"
    }
   ],
   "source": [
    "plt.plot(np.array(lix),np.array(liy),'o')\n",
    "plt.show()"
   ]
  },
  {
   "cell_type": "code",
   "execution_count": 31,
   "metadata": {},
   "outputs": [],
   "source": [
    "import spotipy\n",
    "from spotipy.oauth2 import SpotifyClientCredentials\n",
    "\n",
    "#Authentication\n",
    "client_credentials_manager = SpotifyClientCredentials(client_id='4b4cb4f8525543959104a2168e29e1c9', client_secret='8ea4d3b6032c4a35ba22999240e6859d')\n",
    "sp = spotipy.Spotify(client_credentials_manager = client_credentials_manager)\n"
   ]
  },
  {
   "cell_type": "code",
   "execution_count": 40,
   "metadata": {},
   "outputs": [],
   "source": [
    "def recommend(track_id, ref_df, sp, n_recs = 5):\n",
    "    \n",
    "    # Crawl valence and arousal of given track from spotify api\n",
    "    track_features = sp.audio_features(track_id)[0]\n",
    "    track_moodvec = np.array([track_features['valence'], track_features['energy']])\n",
    "    #print(f\"mood_vec for {track_id}: {track_moodvec}\")\n",
    "    \n",
    "    # Compute distances to all reference tracks\n",
    "    ref_df[\"distances\"] = ref_df[\"mood_vec\"].apply(lambda x: norm(track_moodvec-np.array(x)))\n",
    "    # Sort distances from lowest to highest\n",
    "    ref_df_sorted = ref_df.sort_values(by = \"distances\", ascending = True)\n",
    "    # If the input track is in the reference set, it will have a distance of 0, but should not be recommendet\n",
    "    ref_df_sorted = ref_df_sorted[ref_df_sorted[\"id\"] != track_id]\n",
    "    \n",
    "    # Return n recommendations\n",
    "    return ref_df_sorted.iloc[:n_recs]['id']"
   ]
  },
  {
   "cell_type": "code",
   "execution_count": 41,
   "metadata": {},
   "outputs": [
    {
     "name": "stdout",
     "output_type": "stream",
     "text": [
      "2SRv30X7NoYRZB62dX0UzH\n"
     ]
    }
   ],
   "source": [
    "track1 = random.choice(df[\"id\"])\n",
    "print(track1)\n",
    "r=list(recommend(track_id = track1, ref_df = df, sp = sp, n_recs = 5))"
   ]
  },
  {
   "cell_type": "code",
   "execution_count": 42,
   "metadata": {},
   "outputs": [
    {
     "data": {
      "text/plain": [
       "['2SaOyPRiig9Ja95lCYJCDk',\n",
       " '2wzL4qF4EVxvhDRjS3PYhK',\n",
       " '0YxzH0SUc10Vw4yLFqU06I',\n",
       " '2bWEf2FVLHzqME4xVCjgs2',\n",
       " '2rEKnx0JgrhwiWanoYdw5a']"
      ]
     },
     "execution_count": 42,
     "metadata": {},
     "output_type": "execute_result"
    }
   ],
   "source": [
    "r"
   ]
  },
  {
   "cell_type": "code",
   "execution_count": null,
   "metadata": {},
   "outputs": [],
   "source": []
  }
 ],
 "metadata": {
  "kernelspec": {
   "display_name": "Python 3",
   "language": "python",
   "name": "python3"
  },
  "language_info": {
   "codemirror_mode": {
    "name": "ipython",
    "version": 3
   },
   "file_extension": ".py",
   "mimetype": "text/x-python",
   "name": "python",
   "nbconvert_exporter": "python",
   "pygments_lexer": "ipython3",
   "version": "3.8.5"
  }
 },
 "nbformat": 4,
 "nbformat_minor": 4
}
